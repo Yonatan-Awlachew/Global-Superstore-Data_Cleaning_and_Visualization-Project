{
 "cells": [
  {
   "cell_type": "markdown",
   "metadata": {},
   "source": [
    "# Cleaning Global Superstore Dataset Using Python "
   ]
  },
  {
   "cell_type": "markdown",
   "metadata": {},
   "source": [
    "Link of DataSet : https://www.kaggle.com/datasets/fatihilhan/global-superstore-dataset"
   ]
  },
  {
   "cell_type": "markdown",
   "metadata": {},
   "source": [
    "Here is a description of the columns in the dataset:\n",
    "\n",
    "- category: The category of products sold in the superstore.\n",
    "\n",
    "- city: The city where the order was placed.\n",
    "\n",
    "- country: The country in which the superstore is located.\n",
    "\n",
    "- customer_id: A unique identifier for each customer.\n",
    "\n",
    "- customer_name: The name of the customer who placed the order.\n",
    "\n",
    "- discount: The discount applied to the order.\n",
    "\n",
    "- market: The market or region where the superstore operates.\n",
    "\n",
    "- ji_lu_shu: An unknown or unspecified column.\n",
    "\n",
    "- order_date: The date when the order was placed.\n",
    "\n",
    "- order_id: A unique identifier for each order.\n",
    "\n",
    "- order_priority: The priority level of the order.\n",
    "\n",
    "- product_id: A unique identifier for each product.\n",
    "\n",
    "- product_name: The name of the product.\n",
    "\n",
    "- profit: The profit generated from the order.\n",
    "\n",
    "- quantity: The quantity of products ordered.\n",
    "\n",
    "- region: The region where the order was placed.\n",
    "\n",
    "- row_id: A unique identifier for each row in the dataset.\n",
    "\n",
    "- sales: The total sales amount for the order.\n",
    "\n",
    "- segment: The customer segment (e.g., consumer, corporate, or home office).\n",
    "\n",
    "- ship_date: The date when the order was shipped.\n",
    "\n",
    "- ship_mode: The shipping mode used for the order.\n",
    "\n",
    "- shipping_cost: The cost of shipping for the order.\n",
    "\n",
    "- state: The state or region within the country.\n",
    "\n",
    "- sub_category: The sub-category of products within the main category.\n",
    "\n",
    "- year: The year in which the order was placed.\n",
    "\n",
    "- market2: Another column related to market information.\n",
    "\n",
    "- weeknum: The week number when the order was placed.\n"
   ]
  },
  {
   "cell_type": "markdown",
   "metadata": {},
   "source": [
    "Import Pandas Library & Read the File"
   ]
  },
  {
   "cell_type": "code",
   "execution_count": 1,
   "metadata": {},
   "outputs": [
    {
     "data": {
      "text/html": [
       "<div>\n",
       "<style scoped>\n",
       "    .dataframe tbody tr th:only-of-type {\n",
       "        vertical-align: middle;\n",
       "    }\n",
       "\n",
       "    .dataframe tbody tr th {\n",
       "        vertical-align: top;\n",
       "    }\n",
       "\n",
       "    .dataframe thead th {\n",
       "        text-align: right;\n",
       "    }\n",
       "</style>\n",
       "<table border=\"1\" class=\"dataframe\">\n",
       "  <thead>\n",
       "    <tr style=\"text-align: right;\">\n",
       "      <th></th>\n",
       "      <th>Category</th>\n",
       "      <th>City</th>\n",
       "      <th>Country</th>\n",
       "      <th>Customer.ID</th>\n",
       "      <th>Customer.Name</th>\n",
       "      <th>Discount</th>\n",
       "      <th>Market</th>\n",
       "      <th>记录数</th>\n",
       "      <th>Order.Date</th>\n",
       "      <th>Order.ID</th>\n",
       "      <th>...</th>\n",
       "      <th>Sales</th>\n",
       "      <th>Segment</th>\n",
       "      <th>Ship.Date</th>\n",
       "      <th>Ship.Mode</th>\n",
       "      <th>Shipping.Cost</th>\n",
       "      <th>State</th>\n",
       "      <th>Sub.Category</th>\n",
       "      <th>Year</th>\n",
       "      <th>Market2</th>\n",
       "      <th>weeknum</th>\n",
       "    </tr>\n",
       "  </thead>\n",
       "  <tbody>\n",
       "    <tr>\n",
       "      <th>0</th>\n",
       "      <td>Office Supplies</td>\n",
       "      <td>Los Angeles</td>\n",
       "      <td>United States</td>\n",
       "      <td>LS-172304</td>\n",
       "      <td>Lycoris Saunders</td>\n",
       "      <td>0.0</td>\n",
       "      <td>US</td>\n",
       "      <td>1</td>\n",
       "      <td>2011-01-07 00:00:00.000</td>\n",
       "      <td>CA-2011-130813</td>\n",
       "      <td>...</td>\n",
       "      <td>19</td>\n",
       "      <td>Consumer</td>\n",
       "      <td>2011-01-09 00:00:00.000</td>\n",
       "      <td>Second Class</td>\n",
       "      <td>4.37</td>\n",
       "      <td>California</td>\n",
       "      <td>Paper</td>\n",
       "      <td>2011</td>\n",
       "      <td>North America</td>\n",
       "      <td>2</td>\n",
       "    </tr>\n",
       "    <tr>\n",
       "      <th>1</th>\n",
       "      <td>Office Supplies</td>\n",
       "      <td>Los Angeles</td>\n",
       "      <td>United States</td>\n",
       "      <td>MV-174854</td>\n",
       "      <td>Mark Van Huff</td>\n",
       "      <td>0.0</td>\n",
       "      <td>US</td>\n",
       "      <td>1</td>\n",
       "      <td>2011-01-21 00:00:00.000</td>\n",
       "      <td>CA-2011-148614</td>\n",
       "      <td>...</td>\n",
       "      <td>19</td>\n",
       "      <td>Consumer</td>\n",
       "      <td>2011-01-26 00:00:00.000</td>\n",
       "      <td>Standard Class</td>\n",
       "      <td>0.94</td>\n",
       "      <td>California</td>\n",
       "      <td>Paper</td>\n",
       "      <td>2011</td>\n",
       "      <td>North America</td>\n",
       "      <td>4</td>\n",
       "    </tr>\n",
       "    <tr>\n",
       "      <th>2</th>\n",
       "      <td>Office Supplies</td>\n",
       "      <td>Los Angeles</td>\n",
       "      <td>United States</td>\n",
       "      <td>CS-121304</td>\n",
       "      <td>Chad Sievert</td>\n",
       "      <td>0.0</td>\n",
       "      <td>US</td>\n",
       "      <td>1</td>\n",
       "      <td>2011-08-05 00:00:00.000</td>\n",
       "      <td>CA-2011-118962</td>\n",
       "      <td>...</td>\n",
       "      <td>21</td>\n",
       "      <td>Consumer</td>\n",
       "      <td>2011-08-09 00:00:00.000</td>\n",
       "      <td>Standard Class</td>\n",
       "      <td>1.81</td>\n",
       "      <td>California</td>\n",
       "      <td>Paper</td>\n",
       "      <td>2011</td>\n",
       "      <td>North America</td>\n",
       "      <td>32</td>\n",
       "    </tr>\n",
       "    <tr>\n",
       "      <th>3</th>\n",
       "      <td>Office Supplies</td>\n",
       "      <td>Los Angeles</td>\n",
       "      <td>United States</td>\n",
       "      <td>CS-121304</td>\n",
       "      <td>Chad Sievert</td>\n",
       "      <td>0.0</td>\n",
       "      <td>US</td>\n",
       "      <td>1</td>\n",
       "      <td>2011-08-05 00:00:00.000</td>\n",
       "      <td>CA-2011-118962</td>\n",
       "      <td>...</td>\n",
       "      <td>111</td>\n",
       "      <td>Consumer</td>\n",
       "      <td>2011-08-09 00:00:00.000</td>\n",
       "      <td>Standard Class</td>\n",
       "      <td>4.59</td>\n",
       "      <td>California</td>\n",
       "      <td>Paper</td>\n",
       "      <td>2011</td>\n",
       "      <td>North America</td>\n",
       "      <td>32</td>\n",
       "    </tr>\n",
       "    <tr>\n",
       "      <th>4</th>\n",
       "      <td>Office Supplies</td>\n",
       "      <td>Los Angeles</td>\n",
       "      <td>United States</td>\n",
       "      <td>AP-109154</td>\n",
       "      <td>Arthur Prichep</td>\n",
       "      <td>0.0</td>\n",
       "      <td>US</td>\n",
       "      <td>1</td>\n",
       "      <td>2011-09-29 00:00:00.000</td>\n",
       "      <td>CA-2011-146969</td>\n",
       "      <td>...</td>\n",
       "      <td>6</td>\n",
       "      <td>Consumer</td>\n",
       "      <td>2011-10-03 00:00:00.000</td>\n",
       "      <td>Standard Class</td>\n",
       "      <td>1.32</td>\n",
       "      <td>California</td>\n",
       "      <td>Paper</td>\n",
       "      <td>2011</td>\n",
       "      <td>North America</td>\n",
       "      <td>40</td>\n",
       "    </tr>\n",
       "  </tbody>\n",
       "</table>\n",
       "<p>5 rows × 27 columns</p>\n",
       "</div>"
      ],
      "text/plain": [
       "          Category         City        Country Customer.ID     Customer.Name  \\\n",
       "0  Office Supplies  Los Angeles  United States   LS-172304  Lycoris Saunders   \n",
       "1  Office Supplies  Los Angeles  United States   MV-174854     Mark Van Huff   \n",
       "2  Office Supplies  Los Angeles  United States   CS-121304      Chad Sievert   \n",
       "3  Office Supplies  Los Angeles  United States   CS-121304      Chad Sievert   \n",
       "4  Office Supplies  Los Angeles  United States   AP-109154    Arthur Prichep   \n",
       "\n",
       "   Discount Market  记录数               Order.Date        Order.ID  ... Sales  \\\n",
       "0       0.0     US    1  2011-01-07 00:00:00.000  CA-2011-130813  ...    19   \n",
       "1       0.0     US    1  2011-01-21 00:00:00.000  CA-2011-148614  ...    19   \n",
       "2       0.0     US    1  2011-08-05 00:00:00.000  CA-2011-118962  ...    21   \n",
       "3       0.0     US    1  2011-08-05 00:00:00.000  CA-2011-118962  ...   111   \n",
       "4       0.0     US    1  2011-09-29 00:00:00.000  CA-2011-146969  ...     6   \n",
       "\n",
       "    Segment                Ship.Date       Ship.Mode  Shipping.Cost  \\\n",
       "0  Consumer  2011-01-09 00:00:00.000    Second Class           4.37   \n",
       "1  Consumer  2011-01-26 00:00:00.000  Standard Class           0.94   \n",
       "2  Consumer  2011-08-09 00:00:00.000  Standard Class           1.81   \n",
       "3  Consumer  2011-08-09 00:00:00.000  Standard Class           4.59   \n",
       "4  Consumer  2011-10-03 00:00:00.000  Standard Class           1.32   \n",
       "\n",
       "        State  Sub.Category  Year        Market2 weeknum  \n",
       "0  California         Paper  2011  North America       2  \n",
       "1  California         Paper  2011  North America       4  \n",
       "2  California         Paper  2011  North America      32  \n",
       "3  California         Paper  2011  North America      32  \n",
       "4  California         Paper  2011  North America      40  \n",
       "\n",
       "[5 rows x 27 columns]"
      ]
     },
     "execution_count": 1,
     "metadata": {},
     "output_type": "execute_result"
    }
   ],
   "source": [
    "import pandas as pd\n",
    "\n",
    "data = pd.read_csv('Global_superstore.csv')\n",
    "data.head()"
   ]
  },
  {
   "cell_type": "markdown",
   "metadata": {},
   "source": [
    "Set Index the 'Row.ID' and Replace it with values from 1 to the total number of rows (51290)"
   ]
  },
  {
   "cell_type": "code",
   "execution_count": 2,
   "metadata": {},
   "outputs": [
    {
     "data": {
      "text/html": [
       "<div>\n",
       "<style scoped>\n",
       "    .dataframe tbody tr th:only-of-type {\n",
       "        vertical-align: middle;\n",
       "    }\n",
       "\n",
       "    .dataframe tbody tr th {\n",
       "        vertical-align: top;\n",
       "    }\n",
       "\n",
       "    .dataframe thead th {\n",
       "        text-align: right;\n",
       "    }\n",
       "</style>\n",
       "<table border=\"1\" class=\"dataframe\">\n",
       "  <thead>\n",
       "    <tr style=\"text-align: right;\">\n",
       "      <th></th>\n",
       "      <th>Category</th>\n",
       "      <th>City</th>\n",
       "      <th>Country</th>\n",
       "      <th>Customer.ID</th>\n",
       "      <th>Customer.Name</th>\n",
       "      <th>Discount</th>\n",
       "      <th>Market</th>\n",
       "      <th>记录数</th>\n",
       "      <th>Order.Date</th>\n",
       "      <th>Order.ID</th>\n",
       "      <th>...</th>\n",
       "      <th>Sales</th>\n",
       "      <th>Segment</th>\n",
       "      <th>Ship.Date</th>\n",
       "      <th>Ship.Mode</th>\n",
       "      <th>Shipping.Cost</th>\n",
       "      <th>State</th>\n",
       "      <th>Sub.Category</th>\n",
       "      <th>Year</th>\n",
       "      <th>Market2</th>\n",
       "      <th>weeknum</th>\n",
       "    </tr>\n",
       "    <tr>\n",
       "      <th>Row_ID</th>\n",
       "      <th></th>\n",
       "      <th></th>\n",
       "      <th></th>\n",
       "      <th></th>\n",
       "      <th></th>\n",
       "      <th></th>\n",
       "      <th></th>\n",
       "      <th></th>\n",
       "      <th></th>\n",
       "      <th></th>\n",
       "      <th></th>\n",
       "      <th></th>\n",
       "      <th></th>\n",
       "      <th></th>\n",
       "      <th></th>\n",
       "      <th></th>\n",
       "      <th></th>\n",
       "      <th></th>\n",
       "      <th></th>\n",
       "      <th></th>\n",
       "      <th></th>\n",
       "    </tr>\n",
       "  </thead>\n",
       "  <tbody>\n",
       "    <tr>\n",
       "      <th>1</th>\n",
       "      <td>Office Supplies</td>\n",
       "      <td>Los Angeles</td>\n",
       "      <td>United States</td>\n",
       "      <td>LS-172304</td>\n",
       "      <td>Lycoris Saunders</td>\n",
       "      <td>0.0</td>\n",
       "      <td>US</td>\n",
       "      <td>1</td>\n",
       "      <td>2011-01-07 00:00:00.000</td>\n",
       "      <td>CA-2011-130813</td>\n",
       "      <td>...</td>\n",
       "      <td>19</td>\n",
       "      <td>Consumer</td>\n",
       "      <td>2011-01-09 00:00:00.000</td>\n",
       "      <td>Second Class</td>\n",
       "      <td>4.37</td>\n",
       "      <td>California</td>\n",
       "      <td>Paper</td>\n",
       "      <td>2011</td>\n",
       "      <td>North America</td>\n",
       "      <td>2</td>\n",
       "    </tr>\n",
       "    <tr>\n",
       "      <th>2</th>\n",
       "      <td>Office Supplies</td>\n",
       "      <td>Los Angeles</td>\n",
       "      <td>United States</td>\n",
       "      <td>MV-174854</td>\n",
       "      <td>Mark Van Huff</td>\n",
       "      <td>0.0</td>\n",
       "      <td>US</td>\n",
       "      <td>1</td>\n",
       "      <td>2011-01-21 00:00:00.000</td>\n",
       "      <td>CA-2011-148614</td>\n",
       "      <td>...</td>\n",
       "      <td>19</td>\n",
       "      <td>Consumer</td>\n",
       "      <td>2011-01-26 00:00:00.000</td>\n",
       "      <td>Standard Class</td>\n",
       "      <td>0.94</td>\n",
       "      <td>California</td>\n",
       "      <td>Paper</td>\n",
       "      <td>2011</td>\n",
       "      <td>North America</td>\n",
       "      <td>4</td>\n",
       "    </tr>\n",
       "    <tr>\n",
       "      <th>3</th>\n",
       "      <td>Office Supplies</td>\n",
       "      <td>Los Angeles</td>\n",
       "      <td>United States</td>\n",
       "      <td>CS-121304</td>\n",
       "      <td>Chad Sievert</td>\n",
       "      <td>0.0</td>\n",
       "      <td>US</td>\n",
       "      <td>1</td>\n",
       "      <td>2011-08-05 00:00:00.000</td>\n",
       "      <td>CA-2011-118962</td>\n",
       "      <td>...</td>\n",
       "      <td>21</td>\n",
       "      <td>Consumer</td>\n",
       "      <td>2011-08-09 00:00:00.000</td>\n",
       "      <td>Standard Class</td>\n",
       "      <td>1.81</td>\n",
       "      <td>California</td>\n",
       "      <td>Paper</td>\n",
       "      <td>2011</td>\n",
       "      <td>North America</td>\n",
       "      <td>32</td>\n",
       "    </tr>\n",
       "    <tr>\n",
       "      <th>4</th>\n",
       "      <td>Office Supplies</td>\n",
       "      <td>Los Angeles</td>\n",
       "      <td>United States</td>\n",
       "      <td>CS-121304</td>\n",
       "      <td>Chad Sievert</td>\n",
       "      <td>0.0</td>\n",
       "      <td>US</td>\n",
       "      <td>1</td>\n",
       "      <td>2011-08-05 00:00:00.000</td>\n",
       "      <td>CA-2011-118962</td>\n",
       "      <td>...</td>\n",
       "      <td>111</td>\n",
       "      <td>Consumer</td>\n",
       "      <td>2011-08-09 00:00:00.000</td>\n",
       "      <td>Standard Class</td>\n",
       "      <td>4.59</td>\n",
       "      <td>California</td>\n",
       "      <td>Paper</td>\n",
       "      <td>2011</td>\n",
       "      <td>North America</td>\n",
       "      <td>32</td>\n",
       "    </tr>\n",
       "    <tr>\n",
       "      <th>5</th>\n",
       "      <td>Office Supplies</td>\n",
       "      <td>Los Angeles</td>\n",
       "      <td>United States</td>\n",
       "      <td>AP-109154</td>\n",
       "      <td>Arthur Prichep</td>\n",
       "      <td>0.0</td>\n",
       "      <td>US</td>\n",
       "      <td>1</td>\n",
       "      <td>2011-09-29 00:00:00.000</td>\n",
       "      <td>CA-2011-146969</td>\n",
       "      <td>...</td>\n",
       "      <td>6</td>\n",
       "      <td>Consumer</td>\n",
       "      <td>2011-10-03 00:00:00.000</td>\n",
       "      <td>Standard Class</td>\n",
       "      <td>1.32</td>\n",
       "      <td>California</td>\n",
       "      <td>Paper</td>\n",
       "      <td>2011</td>\n",
       "      <td>North America</td>\n",
       "      <td>40</td>\n",
       "    </tr>\n",
       "    <tr>\n",
       "      <th>...</th>\n",
       "      <td>...</td>\n",
       "      <td>...</td>\n",
       "      <td>...</td>\n",
       "      <td>...</td>\n",
       "      <td>...</td>\n",
       "      <td>...</td>\n",
       "      <td>...</td>\n",
       "      <td>...</td>\n",
       "      <td>...</td>\n",
       "      <td>...</td>\n",
       "      <td>...</td>\n",
       "      <td>...</td>\n",
       "      <td>...</td>\n",
       "      <td>...</td>\n",
       "      <td>...</td>\n",
       "      <td>...</td>\n",
       "      <td>...</td>\n",
       "      <td>...</td>\n",
       "      <td>...</td>\n",
       "      <td>...</td>\n",
       "      <td>...</td>\n",
       "    </tr>\n",
       "    <tr>\n",
       "      <th>51286</th>\n",
       "      <td>Office Supplies</td>\n",
       "      <td>Los Angeles</td>\n",
       "      <td>United States</td>\n",
       "      <td>AM-103604</td>\n",
       "      <td>Alice McCarthy</td>\n",
       "      <td>0.2</td>\n",
       "      <td>US</td>\n",
       "      <td>1</td>\n",
       "      <td>2014-12-03 00:00:00.000</td>\n",
       "      <td>CA-2014-109701</td>\n",
       "      <td>...</td>\n",
       "      <td>69</td>\n",
       "      <td>Corporate</td>\n",
       "      <td>2014-12-04 00:00:00.000</td>\n",
       "      <td>Same Day</td>\n",
       "      <td>5.15</td>\n",
       "      <td>California</td>\n",
       "      <td>Binders</td>\n",
       "      <td>2014</td>\n",
       "      <td>North America</td>\n",
       "      <td>49</td>\n",
       "    </tr>\n",
       "    <tr>\n",
       "      <th>51287</th>\n",
       "      <td>Office Supplies</td>\n",
       "      <td>Los Angeles</td>\n",
       "      <td>United States</td>\n",
       "      <td>AM-103604</td>\n",
       "      <td>Alice McCarthy</td>\n",
       "      <td>0.2</td>\n",
       "      <td>US</td>\n",
       "      <td>1</td>\n",
       "      <td>2014-12-03 00:00:00.000</td>\n",
       "      <td>CA-2014-109701</td>\n",
       "      <td>...</td>\n",
       "      <td>9</td>\n",
       "      <td>Corporate</td>\n",
       "      <td>2014-12-04 00:00:00.000</td>\n",
       "      <td>Same Day</td>\n",
       "      <td>0.44</td>\n",
       "      <td>California</td>\n",
       "      <td>Binders</td>\n",
       "      <td>2014</td>\n",
       "      <td>North America</td>\n",
       "      <td>49</td>\n",
       "    </tr>\n",
       "    <tr>\n",
       "      <th>51288</th>\n",
       "      <td>Office Supplies</td>\n",
       "      <td>Los Angeles</td>\n",
       "      <td>United States</td>\n",
       "      <td>HR-147704</td>\n",
       "      <td>Hallie Redmond</td>\n",
       "      <td>0.2</td>\n",
       "      <td>US</td>\n",
       "      <td>1</td>\n",
       "      <td>2014-12-18 00:00:00.000</td>\n",
       "      <td>CA-2014-106964</td>\n",
       "      <td>...</td>\n",
       "      <td>12</td>\n",
       "      <td>Home Office</td>\n",
       "      <td>2014-12-21 00:00:00.000</td>\n",
       "      <td>First Class</td>\n",
       "      <td>0.31</td>\n",
       "      <td>California</td>\n",
       "      <td>Binders</td>\n",
       "      <td>2014</td>\n",
       "      <td>North America</td>\n",
       "      <td>51</td>\n",
       "    </tr>\n",
       "    <tr>\n",
       "      <th>51289</th>\n",
       "      <td>Office Supplies</td>\n",
       "      <td>Los Angeles</td>\n",
       "      <td>United States</td>\n",
       "      <td>RM-196754</td>\n",
       "      <td>Robert Marley</td>\n",
       "      <td>0.2</td>\n",
       "      <td>US</td>\n",
       "      <td>1</td>\n",
       "      <td>2014-12-25 00:00:00.000</td>\n",
       "      <td>CA-2014-145219</td>\n",
       "      <td>...</td>\n",
       "      <td>90</td>\n",
       "      <td>Home Office</td>\n",
       "      <td>2014-12-26 00:00:00.000</td>\n",
       "      <td>First Class</td>\n",
       "      <td>15.95</td>\n",
       "      <td>California</td>\n",
       "      <td>Binders</td>\n",
       "      <td>2014</td>\n",
       "      <td>North America</td>\n",
       "      <td>52</td>\n",
       "    </tr>\n",
       "    <tr>\n",
       "      <th>51290</th>\n",
       "      <td>Office Supplies</td>\n",
       "      <td>Los Angeles</td>\n",
       "      <td>United States</td>\n",
       "      <td>FH-143654</td>\n",
       "      <td>Fred Hopkins</td>\n",
       "      <td>0.2</td>\n",
       "      <td>US</td>\n",
       "      <td>1</td>\n",
       "      <td>2014-12-26 00:00:00.000</td>\n",
       "      <td>CA-2014-121398</td>\n",
       "      <td>...</td>\n",
       "      <td>154</td>\n",
       "      <td>Corporate</td>\n",
       "      <td>2014-12-30 00:00:00.000</td>\n",
       "      <td>Standard Class</td>\n",
       "      <td>9.59</td>\n",
       "      <td>California</td>\n",
       "      <td>Binders</td>\n",
       "      <td>2014</td>\n",
       "      <td>North America</td>\n",
       "      <td>52</td>\n",
       "    </tr>\n",
       "  </tbody>\n",
       "</table>\n",
       "<p>51290 rows × 27 columns</p>\n",
       "</div>"
      ],
      "text/plain": [
       "               Category         City        Country Customer.ID  \\\n",
       "Row_ID                                                            \n",
       "1       Office Supplies  Los Angeles  United States   LS-172304   \n",
       "2       Office Supplies  Los Angeles  United States   MV-174854   \n",
       "3       Office Supplies  Los Angeles  United States   CS-121304   \n",
       "4       Office Supplies  Los Angeles  United States   CS-121304   \n",
       "5       Office Supplies  Los Angeles  United States   AP-109154   \n",
       "...                 ...          ...            ...         ...   \n",
       "51286   Office Supplies  Los Angeles  United States   AM-103604   \n",
       "51287   Office Supplies  Los Angeles  United States   AM-103604   \n",
       "51288   Office Supplies  Los Angeles  United States   HR-147704   \n",
       "51289   Office Supplies  Los Angeles  United States   RM-196754   \n",
       "51290   Office Supplies  Los Angeles  United States   FH-143654   \n",
       "\n",
       "           Customer.Name  Discount Market  记录数               Order.Date  \\\n",
       "Row_ID                                                                    \n",
       "1       Lycoris Saunders       0.0     US    1  2011-01-07 00:00:00.000   \n",
       "2          Mark Van Huff       0.0     US    1  2011-01-21 00:00:00.000   \n",
       "3           Chad Sievert       0.0     US    1  2011-08-05 00:00:00.000   \n",
       "4           Chad Sievert       0.0     US    1  2011-08-05 00:00:00.000   \n",
       "5         Arthur Prichep       0.0     US    1  2011-09-29 00:00:00.000   \n",
       "...                  ...       ...    ...  ...                      ...   \n",
       "51286     Alice McCarthy       0.2     US    1  2014-12-03 00:00:00.000   \n",
       "51287     Alice McCarthy       0.2     US    1  2014-12-03 00:00:00.000   \n",
       "51288     Hallie Redmond       0.2     US    1  2014-12-18 00:00:00.000   \n",
       "51289      Robert Marley       0.2     US    1  2014-12-25 00:00:00.000   \n",
       "51290       Fred Hopkins       0.2     US    1  2014-12-26 00:00:00.000   \n",
       "\n",
       "              Order.ID  ... Sales      Segment                Ship.Date  \\\n",
       "Row_ID                  ...                                               \n",
       "1       CA-2011-130813  ...    19     Consumer  2011-01-09 00:00:00.000   \n",
       "2       CA-2011-148614  ...    19     Consumer  2011-01-26 00:00:00.000   \n",
       "3       CA-2011-118962  ...    21     Consumer  2011-08-09 00:00:00.000   \n",
       "4       CA-2011-118962  ...   111     Consumer  2011-08-09 00:00:00.000   \n",
       "5       CA-2011-146969  ...     6     Consumer  2011-10-03 00:00:00.000   \n",
       "...                ...  ...   ...          ...                      ...   \n",
       "51286   CA-2014-109701  ...    69    Corporate  2014-12-04 00:00:00.000   \n",
       "51287   CA-2014-109701  ...     9    Corporate  2014-12-04 00:00:00.000   \n",
       "51288   CA-2014-106964  ...    12  Home Office  2014-12-21 00:00:00.000   \n",
       "51289   CA-2014-145219  ...    90  Home Office  2014-12-26 00:00:00.000   \n",
       "51290   CA-2014-121398  ...   154    Corporate  2014-12-30 00:00:00.000   \n",
       "\n",
       "             Ship.Mode  Shipping.Cost       State  Sub.Category  Year  \\\n",
       "Row_ID                                                                  \n",
       "1         Second Class           4.37  California         Paper  2011   \n",
       "2       Standard Class           0.94  California         Paper  2011   \n",
       "3       Standard Class           1.81  California         Paper  2011   \n",
       "4       Standard Class           4.59  California         Paper  2011   \n",
       "5       Standard Class           1.32  California         Paper  2011   \n",
       "...                ...            ...         ...           ...   ...   \n",
       "51286         Same Day           5.15  California       Binders  2014   \n",
       "51287         Same Day           0.44  California       Binders  2014   \n",
       "51288      First Class           0.31  California       Binders  2014   \n",
       "51289      First Class          15.95  California       Binders  2014   \n",
       "51290   Standard Class           9.59  California       Binders  2014   \n",
       "\n",
       "              Market2 weeknum  \n",
       "Row_ID                         \n",
       "1       North America       2  \n",
       "2       North America       4  \n",
       "3       North America      32  \n",
       "4       North America      32  \n",
       "5       North America      40  \n",
       "...               ...     ...  \n",
       "51286   North America      49  \n",
       "51287   North America      49  \n",
       "51288   North America      51  \n",
       "51289   North America      52  \n",
       "51290   North America      52  \n",
       "\n",
       "[51290 rows x 27 columns]"
      ]
     },
     "execution_count": 2,
     "metadata": {},
     "output_type": "execute_result"
    }
   ],
   "source": [
    "data['Row_ID'] = range(1, len(data) + 1)\n",
    "data.set_index('Row_ID',inplace=True)\n",
    "data"
   ]
  },
  {
   "cell_type": "markdown",
   "metadata": {},
   "source": [
    "### Understanding The dataset"
   ]
  },
  {
   "cell_type": "code",
   "execution_count": 3,
   "metadata": {},
   "outputs": [
    {
     "data": {
      "text/plain": [
       "Index(['Category', 'City', 'Country', 'Customer.ID', 'Customer.Name',\n",
       "       'Discount', 'Market', '记录数', 'Order.Date', 'Order.ID', 'Order.Priority',\n",
       "       'Product.ID', 'Product.Name', 'Profit', 'Quantity', 'Region', 'Row.ID',\n",
       "       'Sales', 'Segment', 'Ship.Date', 'Ship.Mode', 'Shipping.Cost', 'State',\n",
       "       'Sub.Category', 'Year', 'Market2', 'weeknum'],\n",
       "      dtype='object')"
      ]
     },
     "execution_count": 3,
     "metadata": {},
     "output_type": "execute_result"
    }
   ],
   "source": [
    "data.columns"
   ]
  },
  {
   "cell_type": "code",
   "execution_count": 4,
   "metadata": {},
   "outputs": [
    {
     "data": {
      "text/plain": [
       "(51290, 27)"
      ]
     },
     "execution_count": 4,
     "metadata": {},
     "output_type": "execute_result"
    }
   ],
   "source": [
    "data.shape"
   ]
  },
  {
   "cell_type": "code",
   "execution_count": 5,
   "metadata": {},
   "outputs": [
    {
     "data": {
      "text/plain": [
       "147"
      ]
     },
     "execution_count": 5,
     "metadata": {},
     "output_type": "execute_result"
    }
   ],
   "source": [
    "len(data.Country.unique()) # Total numbers of Countries"
   ]
  },
  {
   "cell_type": "code",
   "execution_count": 6,
   "metadata": {},
   "outputs": [
    {
     "data": {
      "text/plain": [
       "array(['High', 'Medium', 'Critical', 'Low'], dtype=object)"
      ]
     },
     "execution_count": 6,
     "metadata": {},
     "output_type": "execute_result"
    }
   ],
   "source": [
    "data['Order.Priority'].unique()"
   ]
  },
  {
   "cell_type": "code",
   "execution_count": 7,
   "metadata": {},
   "outputs": [
    {
     "data": {
      "text/plain": [
       "Market\n",
       "APAC      11002\n",
       "LATAM     10294\n",
       "EU        10000\n",
       "US         9994\n",
       "EMEA       5029\n",
       "Africa     4587\n",
       "Canada      384\n",
       "Name: count, dtype: int64"
      ]
     },
     "execution_count": 7,
     "metadata": {},
     "output_type": "execute_result"
    }
   ],
   "source": [
    "data.Market.value_counts()"
   ]
  },
  {
   "cell_type": "markdown",
   "metadata": {},
   "source": [
    "### Checking Missing Values and Duplicates"
   ]
  },
  {
   "cell_type": "markdown",
   "metadata": {},
   "source": [
    "Missing Values"
   ]
  },
  {
   "cell_type": "code",
   "execution_count": 8,
   "metadata": {},
   "outputs": [
    {
     "data": {
      "text/plain": [
       "Category          0\n",
       "City              0\n",
       "Country           0\n",
       "Customer.ID       0\n",
       "Customer.Name     0\n",
       "Discount          0\n",
       "Market            0\n",
       "记录数               0\n",
       "Order.Date        0\n",
       "Order.ID          0\n",
       "Order.Priority    0\n",
       "Product.ID        0\n",
       "Product.Name      0\n",
       "Profit            0\n",
       "Quantity          0\n",
       "Region            0\n",
       "Row.ID            0\n",
       "Sales             0\n",
       "Segment           0\n",
       "Ship.Date         0\n",
       "Ship.Mode         0\n",
       "Shipping.Cost     0\n",
       "State             0\n",
       "Sub.Category      0\n",
       "Year              0\n",
       "Market2           0\n",
       "weeknum           0\n",
       "dtype: int64"
      ]
     },
     "execution_count": 8,
     "metadata": {},
     "output_type": "execute_result"
    }
   ],
   "source": [
    "data.isnull().sum()"
   ]
  },
  {
   "cell_type": "markdown",
   "metadata": {},
   "source": [
    "Duplicates"
   ]
  },
  {
   "cell_type": "code",
   "execution_count": 9,
   "metadata": {},
   "outputs": [
    {
     "data": {
      "text/plain": [
       "np.int64(0)"
      ]
     },
     "execution_count": 9,
     "metadata": {},
     "output_type": "execute_result"
    }
   ],
   "source": [
    "data.duplicated().sum()"
   ]
  },
  {
   "cell_type": "markdown",
   "metadata": {},
   "source": [
    "### Removing unnecessaries Columns"
   ]
  },
  {
   "cell_type": "code",
   "execution_count": 10,
   "metadata": {},
   "outputs": [
    {
     "data": {
      "text/plain": [
       "array([1])"
      ]
     },
     "execution_count": 10,
     "metadata": {},
     "output_type": "execute_result"
    }
   ],
   "source": [
    "data['记录数'].unique() # the translation is 'Number of records'"
   ]
  },
  {
   "cell_type": "code",
   "execution_count": 11,
   "metadata": {},
   "outputs": [],
   "source": [
    "unnecc_features = ['记录数','Year', 'Market2', 'weeknum','Row.ID']"
   ]
  },
  {
   "cell_type": "code",
   "execution_count": 12,
   "metadata": {},
   "outputs": [],
   "source": [
    "data.drop(unnecc_features,axis=1,inplace=True)"
   ]
  },
  {
   "cell_type": "code",
   "execution_count": 13,
   "metadata": {},
   "outputs": [
    {
     "data": {
      "text/plain": [
       "(51290, 22)"
      ]
     },
     "execution_count": 13,
     "metadata": {},
     "output_type": "execute_result"
    }
   ],
   "source": [
    "data.shape"
   ]
  },
  {
   "cell_type": "markdown",
   "metadata": {},
   "source": [
    "### Rename Column names inorder to be acceptable in MYSQL"
   ]
  },
  {
   "cell_type": "markdown",
   "metadata": {},
   "source": [
    "Replace the dot with underscores"
   ]
  },
  {
   "cell_type": "code",
   "execution_count": 14,
   "metadata": {},
   "outputs": [],
   "source": [
    "data = data.rename(columns=lambda x: x.replace('.', '_'))  \n"
   ]
  },
  {
   "cell_type": "markdown",
   "metadata": {},
   "source": [
    "### Change the Data Types to the correct ones"
   ]
  },
  {
   "cell_type": "markdown",
   "metadata": {},
   "source": [
    "First Check if it is correct or not"
   ]
  },
  {
   "cell_type": "code",
   "execution_count": 15,
   "metadata": {},
   "outputs": [
    {
     "name": "stdout",
     "output_type": "stream",
     "text": [
      "<class 'pandas.core.frame.DataFrame'>\n",
      "Index: 51290 entries, 1 to 51290\n",
      "Data columns (total 22 columns):\n",
      " #   Column          Non-Null Count  Dtype  \n",
      "---  ------          --------------  -----  \n",
      " 0   Category        51290 non-null  object \n",
      " 1   City            51290 non-null  object \n",
      " 2   Country         51290 non-null  object \n",
      " 3   Customer_ID     51290 non-null  object \n",
      " 4   Customer_Name   51290 non-null  object \n",
      " 5   Discount        51290 non-null  float64\n",
      " 6   Market          51290 non-null  object \n",
      " 7   Order_Date      51290 non-null  object \n",
      " 8   Order_ID        51290 non-null  object \n",
      " 9   Order_Priority  51290 non-null  object \n",
      " 10  Product_ID      51290 non-null  object \n",
      " 11  Product_Name    51290 non-null  object \n",
      " 12  Profit          51290 non-null  float64\n",
      " 13  Quantity        51290 non-null  int64  \n",
      " 14  Region          51290 non-null  object \n",
      " 15  Sales           51290 non-null  int64  \n",
      " 16  Segment         51290 non-null  object \n",
      " 17  Ship_Date       51290 non-null  object \n",
      " 18  Ship_Mode       51290 non-null  object \n",
      " 19  Shipping_Cost   51290 non-null  float64\n",
      " 20  State           51290 non-null  object \n",
      " 21  Sub_Category    51290 non-null  object \n",
      "dtypes: float64(3), int64(2), object(17)\n",
      "memory usage: 9.0+ MB\n"
     ]
    }
   ],
   "source": [
    "data.info()"
   ]
  },
  {
   "cell_type": "markdown",
   "metadata": {},
   "source": [
    "'Order_Date' and 'Ship_Date' need to be changed to Date and Time Format"
   ]
  },
  {
   "cell_type": "code",
   "execution_count": 16,
   "metadata": {},
   "outputs": [],
   "source": [
    "data['Order_Date'] = pd.to_datetime(data['Order_Date'])\n",
    "data['Ship_Date'] = pd.to_datetime(data['Ship_Date'])"
   ]
  },
  {
   "cell_type": "markdown",
   "metadata": {},
   "source": [
    "Let's check again their data types "
   ]
  },
  {
   "cell_type": "code",
   "execution_count": 17,
   "metadata": {},
   "outputs": [
    {
     "name": "stdout",
     "output_type": "stream",
     "text": [
      "<class 'pandas.core.frame.DataFrame'>\n",
      "Index: 51290 entries, 1 to 51290\n",
      "Data columns (total 22 columns):\n",
      " #   Column          Non-Null Count  Dtype         \n",
      "---  ------          --------------  -----         \n",
      " 0   Category        51290 non-null  object        \n",
      " 1   City            51290 non-null  object        \n",
      " 2   Country         51290 non-null  object        \n",
      " 3   Customer_ID     51290 non-null  object        \n",
      " 4   Customer_Name   51290 non-null  object        \n",
      " 5   Discount        51290 non-null  float64       \n",
      " 6   Market          51290 non-null  object        \n",
      " 7   Order_Date      51290 non-null  datetime64[ns]\n",
      " 8   Order_ID        51290 non-null  object        \n",
      " 9   Order_Priority  51290 non-null  object        \n",
      " 10  Product_ID      51290 non-null  object        \n",
      " 11  Product_Name    51290 non-null  object        \n",
      " 12  Profit          51290 non-null  float64       \n",
      " 13  Quantity        51290 non-null  int64         \n",
      " 14  Region          51290 non-null  object        \n",
      " 15  Sales           51290 non-null  int64         \n",
      " 16  Segment         51290 non-null  object        \n",
      " 17  Ship_Date       51290 non-null  datetime64[ns]\n",
      " 18  Ship_Mode       51290 non-null  object        \n",
      " 19  Shipping_Cost   51290 non-null  float64       \n",
      " 20  State           51290 non-null  object        \n",
      " 21  Sub_Category    51290 non-null  object        \n",
      "dtypes: datetime64[ns](2), float64(3), int64(2), object(15)\n",
      "memory usage: 9.0+ MB\n"
     ]
    }
   ],
   "source": [
    "data.info()"
   ]
  },
  {
   "cell_type": "markdown",
   "metadata": {},
   "source": [
    "### Export Dataset to CSV"
   ]
  },
  {
   "cell_type": "code",
   "execution_count": 18,
   "metadata": {},
   "outputs": [],
   "source": [
    "data.to_csv(\"Cleaned_data.csv\")"
   ]
  },
  {
   "cell_type": "markdown",
   "metadata": {},
   "source": [
    "<h4>Now Everything is Done in Python, We will continue for further cleaning and Refinement on MySQL before proceding to Tableau. <h4>"
   ]
  }
 ],
 "metadata": {
  "kernelspec": {
   "display_name": "Python 3",
   "language": "python",
   "name": "python3"
  },
  "language_info": {
   "codemirror_mode": {
    "name": "ipython",
    "version": 3
   },
   "file_extension": ".py",
   "mimetype": "text/x-python",
   "name": "python",
   "nbconvert_exporter": "python",
   "pygments_lexer": "ipython3",
   "version": "3.12.2"
  }
 },
 "nbformat": 4,
 "nbformat_minor": 2
}
